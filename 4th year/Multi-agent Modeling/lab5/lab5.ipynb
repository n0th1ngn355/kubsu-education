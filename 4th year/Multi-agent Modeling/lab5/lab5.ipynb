{
 "cells": [
  {
   "cell_type": "code",
   "execution_count": 1,
   "metadata": {},
   "outputs": [],
   "source": [
    "import numpy as np"
   ]
  },
  {
   "cell_type": "markdown",
   "metadata": {},
   "source": [
    "Класс логического процесса. \n",
    "- load - величина нагрузки;\n",
    "- loading - время с запуска задачи;\n",
    "- before - множество процессов-родителей;\n",
    "- after - множество процессов-потомков;\n",
    "- denial_time - время отказа, либо -1\n",
    "- agent - агент, выполняющий процесс"
   ]
  },
  {
   "cell_type": "code",
   "execution_count": 2,
   "metadata": {},
   "outputs": [],
   "source": [
    "# время отказа, либо -1\n",
    "def denial_of_service(load, p=0.05):\n",
    "    b=np.random.choice([0,1], p=[1-p,p])\n",
    "    if b:\n",
    "        return round(np.random.choice(np.arange(0, load, 0.1)), 2)\n",
    "    return -1\n",
    "\n",
    "class LP:\n",
    "    def __init__(self, ind, load):\n",
    "        self.ind=ind\n",
    "        self.load = load\n",
    "        self.loading = 0\n",
    "        self.before = set()\n",
    "        self.after = set()\n",
    "        self.denial_time = denial_of_service(load)\n",
    "        self.agent=None\n",
    "\n",
    "    def possible_to_start(self):\n",
    "        return all(map(lambda x:x.load<=x.loading, self.before))\n",
    "    \n",
    "    def __repr__(self):\n",
    "        return f\"({self.load}) LP{self.ind} i/o={len(self.before)}/{len(self.after)}\"\n",
    "    \n",
    "    def __str__(self):\n",
    "        return self.__repr__()\n"
   ]
  },
  {
   "cell_type": "code",
   "execution_count": 3,
   "metadata": {},
   "outputs": [],
   "source": [
    "class Agent:\n",
    "    def __init__(self, ind):\n",
    "        self.ind=ind\n",
    "        self.ended_tasks = 0\n",
    "        self.cur_task = None\n",
    "        self.tasks = list()\n",
    "        self.neighbors = set()\n",
    "    \n",
    "    def total_load(self):\n",
    "        return sum([i.load for i in self.tasks]) + (self.cur_task.load if self.cur_task else 0)\n",
    "    \n",
    "    def __repr__(self):\n",
    "        return f\"Agent{self.ind}, load={self.total_load()}, {len(self.neighbors)} neighbors\"\n",
    "    \n",
    "    def __str__(self):\n",
    "        return self.__repr__()"
   ]
  },
  {
   "cell_type": "code",
   "execution_count": 4,
   "metadata": {},
   "outputs": [],
   "source": [
    "from numpy.random import choice\n",
    "\n",
    "def gen_lp(n_layers=4, min_load=1, max_load=5):\n",
    "    ind = 0\n",
    "    arch = choice(5, n_layers)+1\n",
    "    def gen(k):\n",
    "        nonlocal ind\n",
    "        lps = set()\n",
    "        for _ in range(k):\n",
    "            lps.add(LP(ind, np.random.randint(min_load, max_load+1)))\n",
    "            ind += 1\n",
    "        return lps\n",
    "    def connect(la,lb):\n",
    "        n = len(la)\n",
    "        for i in lb:\n",
    "            for j in choice(list(la), choice(n//2+1)+1):\n",
    "                i.before.add(j)\n",
    "                j.after.add(i)\n",
    "        for i in la:\n",
    "            if not i.after:\n",
    "                t = choice(list(lb), choice(1)+1)\n",
    "                for j in t:\n",
    "                    i.after.add(j)\n",
    "                    j.before.add(i)\n",
    "    \n",
    "    st = gen(arch[0])\n",
    "    la = st\n",
    "    min_time = max(la, key=lambda x:x.load).load\n",
    "    # print(\"слой 0:\\n\",la)\n",
    "    j = 1\n",
    "    for i in arch[1:]:\n",
    "        lb = gen(i)\n",
    "        connect(la,lb)\n",
    "        print(f\"слой {j-1}:\\n\",la)\n",
    "        j+=1\n",
    "        la = lb\n",
    "        min_time += max(la, key=lambda x:x.load).load\n",
    "    print(f\"слой {j-1}:\\n\",lb)\n",
    "\n",
    "    return st, min_time\n"
   ]
  },
  {
   "cell_type": "code",
   "execution_count": 5,
   "metadata": {},
   "outputs": [],
   "source": [
    "def gen_agents(n=4):\n",
    "    agents = set()\n",
    "    for i in range(n):\n",
    "        agents.add(Agent(i))\n",
    "\n",
    "    for a in agents:\n",
    "        if not a.neighbors:\n",
    "            t = choice(list(agents-set([a])), choice(n) + 1)\n",
    "            for b in t:\n",
    "                if a != b:\n",
    "                    a.neighbors.add(b)\n",
    "                    b.neighbors.add(a)\n",
    "    print(\"Связность агентов\")\n",
    "    for a in agents:\n",
    "        print(a.ind, ': '+','.join([str(i.ind) for i in a.neighbors]))\n",
    "    return agents"
   ]
  },
  {
   "cell_type": "code",
   "execution_count": 6,
   "metadata": {},
   "outputs": [],
   "source": [
    "def get_most_idle_agent(agents):\n",
    "    n = len(agents)\n",
    "    return sorted(agents, key=lambda x:(x.total_load(), n-len(x.neighbors)))[0]\n",
    "\n",
    "def system(st, agents):\n",
    "    visited = set()\n",
    "    stack = list(st)\n",
    "    max_time = 0\n",
    "    while stack:\n",
    "        i = stack.pop(0)\n",
    "        if not (i in visited or i.agent):\n",
    "            max_time += i.load\n",
    "            ag = get_most_idle_agent(agents)\n",
    "            ag.tasks.append(i)\n",
    "            i.agent = ag\n",
    "            visited.add(i)\n",
    "            stack.extend(list(i.after))\n",
    "    # print(visited)\n",
    "    # for a in agents:\n",
    "    #     print(a.total_load())\n",
    "    \n",
    "    dt = 0.1\n",
    "    t = 0\n",
    "    while visited:\n",
    "        t += dt\n",
    "        for a in agents:\n",
    "            if a.tasks or a.cur_task:\n",
    "                if not a.cur_task:\n",
    "                    for i in range(len(a.tasks)):\n",
    "                        if a.tasks[i].possible_to_start():\n",
    "                            a.cur_task = a.tasks.pop(i)\n",
    "                            break\n",
    "                    else:\n",
    "                        continue\n",
    "                    # a.cur_task = a.tasks.pop(0)\n",
    "                task = a.cur_task\n",
    "                task.loading += dt\n",
    "                if (task.denial_time != -1) and (task.denial_time <= task.loading):\n",
    "                    ag1 = get_most_idle_agent(a.neighbors)\n",
    "                    i = 0\n",
    "                    for i in range(len(ag1.tasks)):\n",
    "                        if not ag1.tasks[i].possible_to_start():\n",
    "                            break\n",
    "                    ag1.tasks.insert(i, task)\n",
    "                    a.cur_task = None\n",
    "                    task.loading=0\n",
    "                    task.denial_time = -1\n",
    "                    print(f\"{t:.1f}. Отказ в обслуживании на агенте {a.ind} (Задача {task.ind}). Перенос на агента {ag1.ind}\")\n",
    "                elif task.loading >= task.load:\n",
    "                    print(f\"{t:.1f}: Задача {task.ind} завершена агентом {a.ind}\")\n",
    "                    a.ended_tasks += 1\n",
    "                    visited.remove(task)\n",
    "                    a.cur_task = None\n",
    "    print(\"Максимальное время работы программы:\", max_time)"
   ]
  },
  {
   "cell_type": "code",
   "execution_count": 36,
   "metadata": {},
   "outputs": [
    {
     "name": "stdout",
     "output_type": "stream",
     "text": [
      "слой 0:\n",
      " {(54) LP1 i/o=0/2, (57) LP0 i/o=0/1, (68) LP2 i/o=0/2, (24) LP3 i/o=0/2}\n",
      "слой 1:\n",
      " {(13) LP4 i/o=3/2, (86) LP6 i/o=1/2, (40) LP7 i/o=1/3, (14) LP5 i/o=2/1}\n",
      "слой 2:\n",
      " {(45) LP9 i/o=2/2, (32) LP8 i/o=2/1, (75) LP10 i/o=2/1, (53) LP11 i/o=2/3}\n",
      "слой 3:\n",
      " {(76) LP15 i/o=2/1, (44) LP13 i/o=2/1, (56) LP12 i/o=1/1, (33) LP16 i/o=1/1, (88) LP14 i/o=1/1}\n",
      "слой 4:\n",
      " {(49) LP19 i/o=1/1, (26) LP17 i/o=2/1, (10) LP18 i/o=2/2}\n",
      "слой 5:\n",
      " {(62) LP21 i/o=2/3, (25) LP20 i/o=2/4}\n",
      "слой 6:\n",
      " {(83) LP24 i/o=1/1, (53) LP25 i/o=2/1, (65) LP22 i/o=1/1, (66) LP26 i/o=2/1, (55) LP23 i/o=1/1}\n",
      "слой 7:\n",
      " {(83) LP27 i/o=5/2}\n",
      "слой 8:\n",
      " {(11) LP28 i/o=1/2, (30) LP29 i/o=1/1}\n",
      "слой 9:\n",
      " {(24) LP31 i/o=1/0, (62) LP30 i/o=2/0}\n"
     ]
    }
   ],
   "source": [
    "st, min_time = gen_lp(10, 10, 100)"
   ]
  },
  {
   "cell_type": "code",
   "execution_count": 37,
   "metadata": {},
   "outputs": [
    {
     "data": {
      "text/plain": [
       "686"
      ]
     },
     "execution_count": 37,
     "metadata": {},
     "output_type": "execute_result"
    }
   ],
   "source": [
    "min_time"
   ]
  },
  {
   "cell_type": "code",
   "execution_count": 39,
   "metadata": {},
   "outputs": [
    {
     "name": "stdout",
     "output_type": "stream",
     "text": [
      "Связность агентов\n",
      "8 : 6,7,4\n",
      "0 : 4,7\n",
      "7 : 8,0,4,2,5,9\n",
      "4 : 8,0,7\n",
      "1 : 9\n",
      "2 : 7,3\n",
      "5 : 7\n",
      "9 : 1,7,3\n",
      "6 : 8\n",
      "3 : 2,9\n"
     ]
    }
   ],
   "source": [
    "agents = gen_agents(10)"
   ]
  },
  {
   "cell_type": "code",
   "execution_count": 40,
   "metadata": {},
   "outputs": [
    {
     "name": "stdout",
     "output_type": "stream",
     "text": [
      "24.0: Задача 3 завершена агентом 9\n",
      "36.0. Отказ в обслуживании на агенте 8 (Задача 0). Перенос на агента 7\n",
      "54.0: Задача 1 завершена агентом 7\n",
      "68.0: Задача 2 завершена агентом 4\n",
      "81.1: Задача 4 завершена агентом 0\n",
      "82.0: Задача 5 завершена агентом 1\n",
      "111.0: Задача 0 завершена агентом 7\n",
      "140.0: Задача 6 завершена агентом 2\n",
      "150.9: Задача 7 завершена агентом 3\n",
      "182.9: Задача 8 завершена агентом 6\n",
      "193.0: Задача 11 завершена агентом 1\n",
      "195.9: Задача 9 завершена агентом 5\n",
      "225.9: Задача 10 завершена агентом 0\n",
      "226.0: Задача 16 завершена агентом 7\n",
      "251.8: Задача 12 завершена агентом 6\n",
      "269.0: Задача 15 завершена агентом 3\n",
      "269.8: Задача 13 завершена агентом 9\n",
      "274.9: Задача 19 завершена агентом 1\n",
      "284.0: Задача 14 завершена агентом 5\n",
      "295.0: Задача 17 завершена агентом 8\n",
      "305.1: Задача 18 завершена агентом 8\n",
      "330.0: Задача 20 завершена агентом 9\n",
      "367.0: Задача 21 завершена агентом 4\n",
      "395.0: Задача 22 завершена агентом 8\n",
      "413.0: Задача 24 завершена агентом 6\n",
      "420.0: Задача 25 завершена агентом 0\n",
      "421.9: Задача 23 завершена агентом 2\n",
      "433.0: Задача 26 завершена агентом 7\n",
      "516.0: Задача 27 завершена агентом 9\n",
      "527.0: Задача 28 завершена агентом 3\n",
      "533.5. Отказ в обслуживании на агенте 1 (Задача 29). Перенос на агента 9\n",
      "551.0: Задача 31 завершена агентом 3\n",
      "563.4: Задача 29 завершена агентом 9\n",
      "625.4: Задача 30 завершена агентом 4\n",
      "Максимальное время работы программы: 1562\n"
     ]
    }
   ],
   "source": [
    "system(st, agents)"
   ]
  },
  {
   "cell_type": "code",
   "execution_count": 41,
   "metadata": {},
   "outputs": [
    {
     "name": "stdout",
     "output_type": "stream",
     "text": [
      "Агент 8, кол-во реш. задач: 3\n",
      "Агент 0, кол-во реш. задач: 3\n",
      "Агент 7, кол-во реш. задач: 4\n",
      "Агент 4, кол-во реш. задач: 3\n",
      "Агент 1, кол-во реш. задач: 3\n",
      "Агент 2, кол-во реш. задач: 2\n",
      "Агент 5, кол-во реш. задач: 2\n",
      "Агент 9, кол-во реш. задач: 5\n",
      "Агент 6, кол-во реш. задач: 3\n",
      "Агент 3, кол-во реш. задач: 4\n"
     ]
    }
   ],
   "source": [
    "for a in agents:\n",
    "    print(f\"Агент {a.ind}, кол-во реш. задач: {a.ended_tasks}\")"
   ]
  },
  {
   "cell_type": "code",
   "execution_count": 691,
   "metadata": {},
   "outputs": [],
   "source": [
    "tasks = list(st)\n",
    "vis = set(st)\n",
    "while vis:\n",
    "    a = vis.pop()\n",
    "    # print(a)\n",
    "    for i in a.after:\n",
    "        if not i in vis:\n",
    "            tasks.append(i)\n",
    "            vis.add(i)"
   ]
  },
  {
   "cell_type": "code",
   "execution_count": 692,
   "metadata": {},
   "outputs": [
    {
     "data": {
      "text/plain": [
       "{(7) LP3 i/o=1/0, (7) LP4 i/o=2/0}"
      ]
     },
     "execution_count": 692,
     "metadata": {},
     "output_type": "execute_result"
    }
   ],
   "source": [
    "tasks[0].after"
   ]
  }
 ],
 "metadata": {
  "kernelspec": {
   "display_name": "Python 3",
   "language": "python",
   "name": "python3"
  },
  "language_info": {
   "codemirror_mode": {
    "name": "ipython",
    "version": 3
   },
   "file_extension": ".py",
   "mimetype": "text/x-python",
   "name": "python",
   "nbconvert_exporter": "python",
   "pygments_lexer": "ipython3",
   "version": "3.12.1"
  }
 },
 "nbformat": 4,
 "nbformat_minor": 2
}
