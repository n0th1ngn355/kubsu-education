{
 "cells": [
  {
   "cell_type": "code",
   "execution_count": 607,
   "metadata": {},
   "outputs": [],
   "source": [
    "import uuid\n",
    "import random\n",
    "\n",
    "n = 4\n",
    "a, b = 3, 5\n",
    "\n",
    "\n",
    "def generate_target():\n",
    "    k = random.randint(a,b)\n",
    "    return set(str(uuid.uuid4()) for i in range(k)), k\n",
    "\n",
    "\n",
    "class Agent:\n",
    "    def __init__(self, id):\n",
    "        self.id = id\n",
    "        self.target, self.count = generate_target()\n",
    "        self.patents = None\n",
    "        self.communications = 0\n",
    "        self.iters = 0\n"
   ]
  },
  {
   "cell_type": "code",
   "execution_count": 608,
   "metadata": {},
   "outputs": [],
   "source": [
    "agents = [Agent(i) for i in range(n)]"
   ]
  },
  {
   "cell_type": "code",
   "execution_count": 609,
   "metadata": {},
   "outputs": [
    {
     "name": "stdout",
     "output_type": "stream",
     "text": [
      "Agent 0\n",
      "Target:\n",
      "{'64cc8bd7-98aa-4567-b9b5-2df525c75684', '349ad66d-36c5-48d5-9639-5a54e169c877'}\n",
      "Patents:\n",
      "{'34a79bc8-58a8-496b-b526-3e1b592d95d5', '766eeb90-59f7-4572-b5f0-829a48faee4b'}\n",
      "\n",
      "Agent 1\n",
      "Target:\n",
      "{'34a79bc8-58a8-496b-b526-3e1b592d95d5', '0dce227b-c6f7-4c8a-a0e4-0f1db1a974d0', '42660e87-b27d-4615-8fae-d1c8e26aaa9a'}\n",
      "Patents:\n",
      "{'9728c94e-d7ef-4905-b80c-2b7e8fae5db1', 'c0add061-bda9-4b2c-8fbb-0309b091d322'}\n",
      "\n",
      "Agent 2\n",
      "Target:\n",
      "{'8e735796-9107-40fe-b111-0d750535eb7a', '03f59595-6b0f-4cfe-92bd-49e228b52c43'}\n",
      "Patents:\n",
      "{'35353da2-7ee7-45d1-b72c-51f5f7371d47', '227200df-040e-45a1-8ead-1a336ad2c79e'}\n",
      "\n",
      "Agent 3\n",
      "Target:\n",
      "{'766eeb90-59f7-4572-b5f0-829a48faee4b', 'c0add061-bda9-4b2c-8fbb-0309b091d322', '35353da2-7ee7-45d1-b72c-51f5f7371d47', '227200df-040e-45a1-8ead-1a336ad2c79e', '9728c94e-d7ef-4905-b80c-2b7e8fae5db1'}\n",
      "Patents:\n",
      "{'8e735796-9107-40fe-b111-0d750535eb7a', '42660e87-b27d-4615-8fae-d1c8e26aaa9a', '0dce227b-c6f7-4c8a-a0e4-0f1db1a974d0', '64cc8bd7-98aa-4567-b9b5-2df525c75684', '349ad66d-36c5-48d5-9639-5a54e169c877', '03f59595-6b0f-4cfe-92bd-49e228b52c43'}\n",
      "\n"
     ]
    }
   ],
   "source": [
    "# Создаем общее множество и распределяем по агентам\n",
    "t = set()\n",
    "for i in agents:\n",
    "    t |= i.target\n",
    "\n",
    "m, c = len(t)//n, len(t)%n\n",
    "t = list(t)\n",
    "for i in range(n):\n",
    "    # выдача патентов\n",
    "    agents[i].patents = set(t[i*m: i*m+m+c*(i==n-1)])\n",
    "    temp = agents[i].target & agents[i].patents\n",
    "    # сразу убираем целевые патенты из обеих множеств\n",
    "    agents[i].target -= temp\n",
    "    agents[i].patents -= temp\n",
    "    print(f\"Agent {agents[i].id}\")\n",
    "    print(\"Target:\")\n",
    "    print(agents[i].target)\n",
    "    print(\"Patents:\")\n",
    "    print(agents[i].patents)\n",
    "    print()"
   ]
  },
  {
   "cell_type": "code",
   "execution_count": 610,
   "metadata": {},
   "outputs": [
    {
     "name": "stdout",
     "output_type": "stream",
     "text": [
      "Agent 0\n",
      "0 1\n",
      "0 2\n",
      "0 3\n",
      "{'64cc8bd7-98aa-4567-b9b5-2df525c75684'}\n",
      "{'766eeb90-59f7-4572-b5f0-829a48faee4b'}\n",
      "Agent 1\n",
      "1 0\n",
      "1 2\n",
      "1 3\n",
      "{'42660e87-b27d-4615-8fae-d1c8e26aaa9a'}\n",
      "{'c0add061-bda9-4b2c-8fbb-0309b091d322'}\n",
      "Agent 2\n",
      "2 0\n",
      "2 1\n",
      "2 3\n",
      "{'8e735796-9107-40fe-b111-0d750535eb7a'}\n",
      "{'35353da2-7ee7-45d1-b72c-51f5f7371d47'}\n",
      "Agent 3\n",
      "3 0\n",
      "3 1\n",
      "{'9728c94e-d7ef-4905-b80c-2b7e8fae5db1'}\n",
      "{'0dce227b-c6f7-4c8a-a0e4-0f1db1a974d0'}\n",
      "3 2\n",
      "{'227200df-040e-45a1-8ead-1a336ad2c79e'}\n",
      "{'03f59595-6b0f-4cfe-92bd-49e228b52c43'}\n",
      "Agent 0\n",
      "0 1\n",
      "0 2\n",
      "0 3\n",
      "{'349ad66d-36c5-48d5-9639-5a54e169c877'}\n",
      "Agent 1\n",
      "1 0\n",
      "{'34a79bc8-58a8-496b-b526-3e1b592d95d5'}\n"
     ]
    }
   ],
   "source": [
    "stack = agents.copy()\n",
    "i = 0\n",
    "swaps = 0\n",
    "while stack:\n",
    "    tek = stack[i]\n",
    "    if not tek.target:\n",
    "        stack.pop(i)\n",
    "        continue\n",
    "    print(f\"Agent {tek.id}\")\n",
    "    tek.iters += 1\n",
    "    j = 0\n",
    "    while j < n and tek.target:\n",
    "        if tek.id != agents[j].id:\n",
    "            print(tek.id, j)\n",
    "            tek.communications += 1\n",
    "            agents[j].communications += 1\n",
    "            \n",
    "            t1 = tek.target & agents[j].patents\n",
    "            if t1:\n",
    "                t1 = {t1.pop()}\n",
    "                # если можно поменяться\n",
    "                if not agents[j].target:\n",
    "                    swaps += 1\n",
    "                    tek.target -= t1\n",
    "                    agents[j].patents -= t1\n",
    "                    print(t1)\n",
    "                else:\n",
    "                    t2 = agents[j].target & tek.patents\n",
    "                    # если можно просто взять\n",
    "                    if t2:\n",
    "                        swaps += 1\n",
    "                        t2 = {t2.pop()}\n",
    "                        tek.target -= t1\n",
    "                        tek.patents -= t2\n",
    "                        agents[j].target -= t2\n",
    "                        agents[j].patents -= t1\n",
    "                        print(t1)\n",
    "                        print(t2)\n",
    "                if not tek.target:\n",
    "                    stack.pop(i)\n",
    "                    i -= 1\n",
    "        j += 1\n",
    "    i+=1\n",
    "    if i == len(stack):\n",
    "        if not swaps:\n",
    "            break\n",
    "        i = 0\n",
    "        swaps = 0\n"
   ]
  },
  {
   "cell_type": "code",
   "execution_count": 611,
   "metadata": {},
   "outputs": [
    {
     "name": "stdout",
     "output_type": "stream",
     "text": [
      "Agent 0\n",
      "Target:\n",
      "set()\n",
      "Patents:\n",
      "set()\n",
      "\n",
      "Agent 1\n",
      "Target:\n",
      "set()\n",
      "Patents:\n",
      "set()\n",
      "\n",
      "Agent 2\n",
      "Target:\n",
      "set()\n",
      "Patents:\n",
      "set()\n",
      "\n",
      "Agent 3\n",
      "Target:\n",
      "set()\n",
      "Patents:\n",
      "set()\n",
      "\n"
     ]
    }
   ],
   "source": [
    "for i in range(n):\n",
    "    print(f\"Agent {agents[i].id}\")\n",
    "    print(\"Target:\")\n",
    "    print(agents[i].target)\n",
    "    print(\"Patents:\")\n",
    "    print(agents[i].patents)\n",
    "    print()"
   ]
  },
  {
   "cell_type": "code",
   "execution_count": 612,
   "metadata": {},
   "outputs": [],
   "source": [
    "# t1 = agents[0].target & agents[1].patents\n",
    "# t1 = {t1.pop()}\n",
    "\n",
    "# agents[0]"
   ]
  },
  {
   "cell_type": "code",
   "execution_count": 613,
   "metadata": {},
   "outputs": [
    {
     "name": "stdout",
     "output_type": "stream",
     "text": [
      "Agent 0, Target size: 4\n",
      "Iters: 2, Communications: 10\n",
      "\n",
      "Agent 1, Target size: 5\n",
      "Iters: 2, Communications: 8\n",
      "\n",
      "Agent 2, Target size: 4\n",
      "Iters: 1, Communications: 7\n",
      "\n",
      "Agent 3, Target size: 5\n",
      "Iters: 1, Communications: 7\n",
      "\n"
     ]
    }
   ],
   "source": [
    "if stack:\n",
    "    print(\"!!Во время выполнения не все собрали набор патентов!!\\n\")\n",
    "for i in range(n):\n",
    "    print(f\"Agent {agents[i].id}, Target size: {agents[i].count}\")\n",
    "    print(f\"Iters: {agents[i].iters}, Communications: {agents[i].communications}\")\n",
    "    print()"
   ]
  }
 ],
 "metadata": {
  "kernelspec": {
   "display_name": "Python 3",
   "language": "python",
   "name": "python3"
  },
  "language_info": {
   "codemirror_mode": {
    "name": "ipython",
    "version": 3
   },
   "file_extension": ".py",
   "mimetype": "text/x-python",
   "name": "python",
   "nbconvert_exporter": "python",
   "pygments_lexer": "ipython3",
   "version": "3.12.1"
  }
 },
 "nbformat": 4,
 "nbformat_minor": 2
}
