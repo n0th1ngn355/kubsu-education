{
 "cells": [
  {
   "cell_type": "code",
   "execution_count": 2,
   "metadata": {},
   "outputs": [],
   "source": [
    "import numpy as np"
   ]
  },
  {
   "cell_type": "code",
   "execution_count": 3,
   "metadata": {},
   "outputs": [
    {
     "data": {
      "text/plain": [
       "array([1., 1., 1., 1., 1., 1., 1., 1., 1., 1.])"
      ]
     },
     "execution_count": 3,
     "metadata": {},
     "output_type": "execute_result"
    }
   ],
   "source": [
    "# 1. Создать  вектор  (одномерный  массив)  размера  10,  заполненный единицами.\n",
    "np.ones(10)"
   ]
  },
  {
   "cell_type": "code",
   "execution_count": 4,
   "metadata": {},
   "outputs": [
    {
     "data": {
      "text/plain": [
       "array([10, 11, 12, 13, 14, 15, 16, 17, 18, 19, 20, 21, 22, 23, 24, 25, 26,\n",
       "       27, 28, 29, 30, 31, 32, 33, 34, 35, 36, 37, 38, 39, 40, 41, 42, 43,\n",
       "       44, 45, 46, 47, 48, 49])"
      ]
     },
     "execution_count": 4,
     "metadata": {},
     "output_type": "execute_result"
    }
   ],
   "source": [
    "# 2. Создать вектор (одномерный массив) со значениями от 10 до 49\n",
    "np.arange(10,50)"
   ]
  },
  {
   "cell_type": "code",
   "execution_count": 27,
   "metadata": {},
   "outputs": [
    {
     "data": {
      "text/plain": [
       "(array([0, 1, 2, 3, 4, 6, 7, 8, 9], dtype=int64),)"
      ]
     },
     "execution_count": 27,
     "metadata": {},
     "output_type": "execute_result"
    }
   ],
   "source": [
    "# 3. Создать  вектор  (одномерный  массив)  размера  10.  Заполнить  его случайными значениями. Найти индексы ненулевых элементов  \n",
    "np.random.randint(10, size=10).nonzero()"
   ]
  },
  {
   "cell_type": "code",
   "execution_count": 30,
   "metadata": {},
   "outputs": [
    {
     "data": {
      "text/plain": [
       "array([[0, 1, 2],\n",
       "       [3, 4, 5],\n",
       "       [6, 7, 8]])"
      ]
     },
     "execution_count": 30,
     "metadata": {},
     "output_type": "execute_result"
    }
   ],
   "source": [
    "# 4. Создать матрицу (двумерный массив) 3x3 со значениями от 0 до 8 \n",
    "np.arange(9).reshape((3,3))"
   ]
  },
  {
   "cell_type": "code",
   "execution_count": 39,
   "metadata": {},
   "outputs": [
    {
     "data": {
      "text/plain": [
       "array([[0, 1, 0, 1, 0, 1, 0, 1],\n",
       "       [1, 0, 1, 0, 1, 0, 1, 0],\n",
       "       [0, 1, 0, 1, 0, 1, 0, 1],\n",
       "       [1, 0, 1, 0, 1, 0, 1, 0],\n",
       "       [0, 1, 0, 1, 0, 1, 0, 1],\n",
       "       [1, 0, 1, 0, 1, 0, 1, 0],\n",
       "       [0, 1, 0, 1, 0, 1, 0, 1],\n",
       "       [1, 0, 1, 0, 1, 0, 1, 0]])"
      ]
     },
     "execution_count": 39,
     "metadata": {},
     "output_type": "execute_result"
    }
   ],
   "source": [
    "# 5.  Создать 8x8 матрицу и заполнить её в шахматном порядке, используя функцию tile\n",
    "np.tile([[0,1],[1,0]], (4,4))"
   ]
  },
  {
   "cell_type": "code",
   "execution_count": 58,
   "metadata": {},
   "outputs": [
    {
     "data": {
      "text/plain": [
       "array([0, 5, 6, 2, 7, 4, 9, 5, 8, 9])"
      ]
     },
     "execution_count": 58,
     "metadata": {},
     "output_type": "execute_result"
    }
   ],
   "source": [
    "# 6. Создать  вектор  (одномерный  массив)  размера  10.  Заполнить  его случайными значениями. Заменить минимальный элемент на ноль\n",
    "t6 = np.random.randint6(10, size=10)\n",
    "t6[t6==t6.min()] = 0\n",
    "t6"
   ]
  },
  {
   "cell_type": "code",
   "execution_count": 82,
   "metadata": {},
   "outputs": [
    {
     "name": "stdout",
     "output_type": "stream",
     "text": [
      "[2 4 7 5 0 4 6 6 4 3]\n"
     ]
    },
    {
     "data": {
      "text/plain": [
       "4"
      ]
     },
     "execution_count": 82,
     "metadata": {},
     "output_type": "execute_result"
    }
   ],
   "source": [
    "# 7. Создать вектор (одномерный массив) размера 100. Заполнить его случайными значениями. Найти наиболее частое значение в массиве\n",
    "t7 = np.random.randint(10, size=10)\n",
    "print(t7)\n",
    "np.bincount(t7).argmax()"
   ]
  },
  {
   "cell_type": "code",
   "execution_count": 116,
   "metadata": {},
   "outputs": [
    {
     "name": "stdout",
     "output_type": "stream",
     "text": [
      "[[2 5 5]\n",
      " [2 9 4]\n",
      " [6 1 2]]\n",
      "[[-2.  1.  1.]\n",
      " [-3.  4. -1.]\n",
      " [ 3. -2. -1.]]\n"
     ]
    }
   ],
   "source": [
    "# 8. Создать матрицу. Отнять среднее из каждой строки в матрице\n",
    "t8 = np.random.randint(10, size=(3,3))\n",
    "print(t8)\n",
    "print(t8-t8.mean(axis=1, keepdims=True))"
   ]
  },
  {
   "cell_type": "code",
   "execution_count": 121,
   "metadata": {},
   "outputs": [
    {
     "name": "stdout",
     "output_type": "stream",
     "text": [
      "[[9 5 3]\n",
      " [9 6 5]\n",
      " [5 2 2]]\n",
      "[[9 6 5]\n",
      " [9 5 3]\n",
      " [5 2 2]]\n"
     ]
    }
   ],
   "source": [
    "# 9. Создать матрицу. Поменять две строки в матрице\n",
    "t9 = np.random.randint(10, size=(3,3))\n",
    "print(t9)\n",
    "t9[[0,1]] = t9[[1,0]]\n",
    "print(t9)"
   ]
  },
  {
   "cell_type": "code",
   "execution_count": 129,
   "metadata": {},
   "outputs": [
    {
     "data": {
      "text/plain": [
       "[9, 7, 7, 6]"
      ]
     },
     "execution_count": 129,
     "metadata": {},
     "output_type": "execute_result"
    }
   ],
   "source": [
    "# 10. Создать вектор (одномерный массив) размера 10. Заполнить его случайными значениями. Найти n наибольших значений в векторе\n",
    "t10 = np.random.randint(10, size=10)\n",
    "sorted(t10, reverse=True)[:4]"
   ]
  },
  {
   "cell_type": "code",
   "execution_count": 135,
   "metadata": {},
   "outputs": [
    {
     "data": {
      "text/plain": [
       "array([[1., 2., 3., 4., 5.],\n",
       "       [1., 2., 3., 4., 5.],\n",
       "       [1., 2., 3., 4., 5.],\n",
       "       [1., 2., 3., 4., 5.],\n",
       "       [1., 2., 3., 4., 5.]])"
      ]
     },
     "execution_count": 135,
     "metadata": {},
     "output_type": "execute_result"
    }
   ],
   "source": [
    "# 11. Создать 5x5 матрицу со значениями в строках от 1 до 5. \n",
    "np.zeros((5,5)) + np.arange(1,6)"
   ]
  },
  {
   "cell_type": "code",
   "execution_count": 144,
   "metadata": {},
   "outputs": [
    {
     "name": "stdout",
     "output_type": "stream",
     "text": [
      "[[9 8 0 3]\n",
      " [0 0 3 0]\n",
      " [8 1 6 8]\n",
      " [8 9 1 9]]\n",
      "\n",
      "[[2 0 9 3]\n",
      " [4 9 9 5]\n",
      " [4 9 4 5]\n",
      " [7 3 5 7]]\n",
      "\n",
      "[[ 71  81 168  88]\n",
      " [ 12  27  12  15]\n",
      " [100  87 145 115]\n",
      " [119 117 202 137]]\n",
      "\n",
      "[ 71  27 145 137]\n"
     ]
    }
   ],
   "source": [
    "# 12. Создать две матрицы 4x4 и 4x4. Найти их произведение. Найти диагональные элементы произведения матриц \n",
    "t121 = np.random.randint(10, size=(4,4))\n",
    "t122 = np.random.randint(10, size=(4,4))\n",
    "print(t121)\n",
    "print()\n",
    "print(t122)\n",
    "print()\n",
    "dot = t121 @ t122\n",
    "print(dot)\n",
    "print()\n",
    "print(np.diag(dot))"
   ]
  }
 ],
 "metadata": {
  "kernelspec": {
   "display_name": "Python 3",
   "language": "python",
   "name": "python3"
  },
  "language_info": {
   "codemirror_mode": {
    "name": "ipython",
    "version": 3
   },
   "file_extension": ".py",
   "mimetype": "text/x-python",
   "name": "python",
   "nbconvert_exporter": "python",
   "pygments_lexer": "ipython3",
   "version": "3.12.1"
  }
 },
 "nbformat": 4,
 "nbformat_minor": 2
}
