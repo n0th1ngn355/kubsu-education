{
 "cells": [
  {
   "cell_type": "code",
   "execution_count": 309,
   "metadata": {},
   "outputs": [
    {
     "data": {
      "text/plain": [
       "array([[0.6145988 , 0.6145988 , 0.6145988 , 0.6145988 ],\n",
       "       [0.66391249, 0.66391249, 0.66391249, 0.66391249],\n",
       "       [0.68622792, 0.68622792, 0.68622792, 0.68622792],\n",
       "       [0.50883822, 0.50883822, 0.50883822, 0.50883822],\n",
       "       [0.54936082, 0.54936082, 0.54936082, 0.54936082],\n",
       "       [0.59886688, 0.59886688, 0.59886688, 0.59886688]])"
      ]
     },
     "execution_count": 309,
     "metadata": {},
     "output_type": "execute_result"
    }
   ],
   "source": [
    "import numpy as np\n",
    "\n",
    "np.random.seed()\n",
    "\n",
    "\n",
    "def find_winner(input_vector, weights):\n",
    "    distances = np.linalg.norm(weights - input_vector.reshape(-1, 1), axis=0)\n",
    "    return np.argmin(distances)\n",
    "\n",
    "\n",
    "def update_weights(winner_idx, input_vector, weights, learning_rate):\n",
    "    neighborhood_radius = 10000\n",
    "    for i in range(weights.shape[1]):\n",
    "        distance = abs(i - winner_idx)\n",
    "        if distance <= neighborhood_radius:\n",
    "            weights[:, i] += learning_rate * (input_vector - weights[:, i])\n",
    "\n",
    "def train_kohonen_network(data, epochs, learning_rate):\n",
    "    input_size = data.shape[1]\n",
    "    output_size = 4\n",
    "    weights = np.random.rand(input_size, output_size)\n",
    "    \n",
    "    for epoch in range(epochs):\n",
    "        for sample in data:\n",
    "            winner_idx = find_winner(sample, weights)\n",
    "            update_weights(winner_idx, sample, weights, learning_rate)\n",
    "        \n",
    "        learning_rate -= 0.05\n",
    "    \n",
    "    return weights\n",
    "\n",
    "data = np.array([\n",
    "    [1, 1, 60, 79, 60, 72, 63, 1.00],\n",
    "    [1, 0, 60, 61, 30, 5, 17, 0.00],\n",
    "    [0, 0, 60, 61, 30, 66, 58, 0.00],\n",
    "    [1, 1, 85, 78, 72, 70, 85, 1.25],\n",
    "    [0, 1, 65, 78, 60, 67, 65, 1.00],\n",
    "    [0, 1, 60, 78, 77, 81, 60, 1.25],\n",
    "    [0, 1, 55, 79, 56, 69, 72, 0.00],\n",
    "    [1, 0, 55, 56, 50, 56, 60, 0.00],\n",
    "    [1, 0, 55, 60, 21, 64, 50, 0.00],\n",
    "    [1, 0, 60, 56, 30, 16, 17, 0.00],\n",
    "    [0, 1, 85, 89, 85, 92, 85, 1.75],\n",
    "    [0, 1, 60, 88, 76, 66, 60, 1.25],\n",
    "    [1, 0, 55, 64, 0, 9, 50, 0.00],\n",
    "    [0, 1, 80, 83, 62, 72, 72, 1.25],\n",
    "    [1, 0, 55, 10, 3, 8, 50, 0.00],\n",
    "    [0, 1, 60, 67, 57, 64, 50, 0.00],\n",
    "    [1, 1, 75, 98, 86, 82, 85, 1.50],\n",
    "    [0, 1, 85, 85, 81, 85, 72, 1.25],\n",
    "    [1, 1, 80, 56, 50, 69, 50, 0.00],\n",
    "    [1, 0, 55, 60, 30, 8, 60, 0.00]\n",
    "])\n",
    "test_data = np.array([\n",
    "    [1, 0, 56, 55, 50, 56, 60, 0.00],\n",
    "    [0, 1, 85, 85, 81, 72, 85, 1.25],\n",
    "    [1, 1, 75, 86, 98, 82, 85, 1.50],\n",
    "    [0, 1, 99, 89, 99, 92, 85, 1.75]\n",
    "])\n",
    "\n",
    "data[:, 2:7] /= 100\n",
    "epochs = 6\n",
    "learning_rate = 0.30\n",
    "trained_weights = train_kohonen_network(data[:, 1:7], epochs, learning_rate)\n",
    "\n",
    "trained_weights"
   ]
  },
  {
   "cell_type": "code",
   "execution_count": 314,
   "metadata": {},
   "outputs": [
    {
     "name": "stdout",
     "output_type": "stream",
     "text": [
      "1\n",
      "2\n",
      "3\n",
      "3\n"
     ]
    }
   ],
   "source": [
    "for i in test_data:\n",
    "    inp = np.array(i)\n",
    "    inp[2:7]/=100\n",
    "    norm = inp[1:7]\n",
    "    winner_idx = find_winner(norm, trained_weights)\n",
    "    print(winner_idx)\n"
   ]
  }
 ],
 "metadata": {
  "kernelspec": {
   "display_name": "Python 3",
   "language": "python",
   "name": "python3"
  },
  "language_info": {
   "codemirror_mode": {
    "name": "ipython",
    "version": 3
   },
   "file_extension": ".py",
   "mimetype": "text/x-python",
   "name": "python",
   "nbconvert_exporter": "python",
   "pygments_lexer": "ipython3",
   "version": "3.12.1"
  }
 },
 "nbformat": 4,
 "nbformat_minor": 2
}
